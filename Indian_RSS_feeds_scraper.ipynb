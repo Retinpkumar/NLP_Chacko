{
 "cells": [
  {
   "cell_type": "markdown",
   "id": "eb5d19bd",
   "metadata": {
    "toc": true
   },
   "source": [
    "<h1>Table of Contents<span class=\"tocSkip\"></span></h1>\n",
    "<div class=\"toc\"><ul class=\"toc-item\"><li><span><a href=\"#Data-Processing\" data-toc-modified-id=\"Data-Processing-1\"><span class=\"toc-item-num\">1&nbsp;&nbsp;</span>Data Processing</a></span></li></ul></div>"
   ]
  },
  {
   "cell_type": "code",
   "execution_count": 1,
   "id": "7e1346cb",
   "metadata": {},
   "outputs": [],
   "source": [
    "from requests_html import HTMLSession\n",
    "from bs4 import BeautifulSoup as bs\n",
    "import json, re, os\n",
    "from tqdm import tqdm\n",
    "from loguru import logger\n",
    "from datetime import datetime"
   ]
  },
  {
   "cell_type": "code",
   "execution_count": 2,
   "id": "15e05a46",
   "metadata": {},
   "outputs": [],
   "source": [
    "# feed_config.py and import\n",
    "RSS_FEED_URLS = [\n",
    "    'https://timesofindia.indiatimes.com/rssfeedstopstories.cms?x=1',\n",
    "    'https://feeds.feedburner.com/NDTV-LatestNews',\n",
    "    'https://www.indiatoday.in/rss/1206578',\n",
    "    'https://indianexpress.com/feed/',\n",
    "    'https://www.thehindu.com/news/national/?service=rss',\n",
    "    'https://www.news18.com/rss/india.xml',\n",
    "    'https://www.business-standard.com/rss/latest.rss',\n",
    "    'https://www.dnaindia.com/feeds/india.xml',\n",
    "    'https://www.deccanchronicle.com/rss_feed/',\n",
    "    'https://www.india.com/feed/',\n",
    "    'https://www.oneindia.com/rss/news-india-fb.xml',\n",
    "    'https://news.abplive.com/home/feed',\n",
    "    'https://theprint.in/feed/',\n",
    "    'https://www.indiatvnews.com/rssnews/topstory.xml',\n",
    "    'https://www.tribuneindia.com/rss/feed?catId=42',\n",
    "    'https://www.thehindubusinessline.com/?service=rss',\n",
    "    'https://prod-qt-images.s3.amazonaws.com/production/freepressjournal/feed.xml',\n",
    "    'https://www.siasat.com/feed/',\n",
    "    'https://feeds.feedburner.com/ScrollinArticles.rss',\n",
    "    'https://telanganatoday.com/feed'\n",
    "]"
   ]
  },
  {
   "cell_type": "code",
   "execution_count": 3,
   "id": "ed18ad7c",
   "metadata": {},
   "outputs": [
    {
     "data": {
      "text/plain": [
       "20"
      ]
     },
     "execution_count": 3,
     "metadata": {},
     "output_type": "execute_result"
    }
   ],
   "source": [
    "len(RSS_FEED_URLS)"
   ]
  },
  {
   "cell_type": "code",
   "execution_count": 4,
   "id": "cdc9969d",
   "metadata": {},
   "outputs": [
    {
     "data": {
      "text/plain": [
       "200"
      ]
     },
     "execution_count": 4,
     "metadata": {},
     "output_type": "execute_result"
    }
   ],
   "source": [
    "session = HTMLSession()\n",
    "response = session.get(RSS_FEED_URLS[0])\n",
    "response.status_code"
   ]
  },
  {
   "cell_type": "code",
   "execution_count": 5,
   "id": "3feef66b",
   "metadata": {},
   "outputs": [],
   "source": [
    "soup = bs(response.content, features='xml')"
   ]
  },
  {
   "cell_type": "code",
   "execution_count": 6,
   "id": "ac0fab38",
   "metadata": {},
   "outputs": [],
   "source": [
    "items  = soup.find_all('item')"
   ]
  },
  {
   "cell_type": "code",
   "execution_count": 7,
   "id": "3aae7472",
   "metadata": {},
   "outputs": [
    {
     "data": {
      "text/plain": [
       "33"
      ]
     },
     "execution_count": 7,
     "metadata": {},
     "output_type": "execute_result"
    }
   ],
   "source": [
    "len(items)"
   ]
  },
  {
   "cell_type": "code",
   "execution_count": 8,
   "id": "73344715",
   "metadata": {},
   "outputs": [
    {
     "data": {
      "text/plain": [
       "<item><title>Not only Joshimath, these places are also at risk of sinking</title><description/><link>https://timesofindia.indiatimes.com/india/joshimath-sinking-town-in-indian-himalayas-spotlights-risks-of-development/articleshow/97018583.cms</link><guid>https://timesofindia.indiatimes.com/india/joshimath-sinking-town-in-indian-himalayas-spotlights-risks-of-development/articleshow/97018583.cms</guid><pubDate>Mon, 16 Jan 2023 09:33:46 +0530</pubDate><dc:creator>Bloomberg</dc:creator><enclosure length=\"73592\" type=\"image/jpeg\" url=\"https://static.toiimg.com/photo/msid-97018595,imgsize-73592.cms\"/></item>"
      ]
     },
     "execution_count": 8,
     "metadata": {},
     "output_type": "execute_result"
    }
   ],
   "source": [
    "items[0]"
   ]
  },
  {
   "cell_type": "code",
   "execution_count": 9,
   "id": "b9fcc404",
   "metadata": {},
   "outputs": [
    {
     "data": {
      "text/plain": [
       "'Not only Joshimath, these places are also at risk of sinking'"
      ]
     },
     "execution_count": 9,
     "metadata": {},
     "output_type": "execute_result"
    }
   ],
   "source": [
    "title = items[0].find('title').text\n",
    "title"
   ]
  },
  {
   "cell_type": "code",
   "execution_count": 10,
   "id": "3a4cbdd0",
   "metadata": {},
   "outputs": [
    {
     "data": {
      "text/plain": [
       "''"
      ]
     },
     "execution_count": 10,
     "metadata": {},
     "output_type": "execute_result"
    }
   ],
   "source": [
    "description = items[0].find('description').text\n",
    "description"
   ]
  },
  {
   "cell_type": "code",
   "execution_count": 11,
   "id": "a71d163f",
   "metadata": {},
   "outputs": [
    {
     "data": {
      "text/plain": [
       "'Mon, 16 Jan 2023 09:33:46 +0530'"
      ]
     },
     "execution_count": 11,
     "metadata": {},
     "output_type": "execute_result"
    }
   ],
   "source": [
    "pub_date = items[0].find('pubDate').text\n",
    "pub_date"
   ]
  },
  {
   "cell_type": "code",
   "execution_count": 12,
   "id": "8a27dac6",
   "metadata": {},
   "outputs": [
    {
     "name": "stderr",
     "output_type": "stream",
     "text": [
      "2023-01-16 21:46:27.595 | INFO     | __main__:<module>:7 - Connected to: https://timesofindia.indiatimes.com/rssfeedstopstories.cms?x=1\n",
      "2023-01-16 21:46:27.625 | INFO     | __main__:<module>:13 - All items fetched.\n",
      "2023-01-16 21:46:28.606 | INFO     | __main__:<module>:7 - Connected to: https://feeds.feedburner.com/NDTV-LatestNews\n",
      "2023-01-16 21:46:28.613 | INFO     | __main__:<module>:13 - All items fetched.\n",
      "2023-01-16 21:46:28.778 | INFO     | __main__:<module>:7 - Connected to: https://www.indiatoday.in/rss/1206578\n",
      "2023-01-16 21:46:28.785 | INFO     | __main__:<module>:13 - All items fetched.\n",
      "2023-01-16 21:46:29.001 | INFO     | __main__:<module>:7 - Connected to: https://indianexpress.com/feed/\n",
      "2023-01-16 21:46:29.077 | INFO     | __main__:<module>:13 - All items fetched.\n",
      "2023-01-16 21:46:29.423 | INFO     | __main__:<module>:7 - Connected to: https://www.thehindu.com/news/national/?service=rss\n",
      "2023-01-16 21:46:29.449 | INFO     | __main__:<module>:13 - All items fetched.\n",
      "2023-01-16 21:46:29.664 | INFO     | __main__:<module>:7 - Connected to: https://www.news18.com/rss/india.xml\n",
      "2023-01-16 21:46:29.704 | INFO     | __main__:<module>:13 - All items fetched.\n",
      "2023-01-16 21:46:29.931 | INFO     | __main__:<module>:7 - Connected to: https://www.business-standard.com/rss/latest.rss\n",
      "2023-01-16 21:46:29.976 | INFO     | __main__:<module>:13 - All items fetched.\n",
      "2023-01-16 21:46:30.140 | INFO     | __main__:<module>:7 - Connected to: https://www.dnaindia.com/feeds/india.xml\n",
      "2023-01-16 21:46:30.146 | INFO     | __main__:<module>:13 - All items fetched.\n",
      "2023-01-16 21:46:30.393 | INFO     | __main__:<module>:7 - Connected to: https://www.deccanchronicle.com/rss_feed/\n",
      "2023-01-16 21:46:30.416 | INFO     | __main__:<module>:13 - All items fetched.\n",
      "2023-01-16 21:46:30.715 | INFO     | __main__:<module>:7 - Connected to: https://www.india.com/feed/\n",
      "2023-01-16 21:46:30.739 | INFO     | __main__:<module>:13 - All items fetched.\n",
      "2023-01-16 21:46:30.868 | INFO     | __main__:<module>:7 - Connected to: https://www.oneindia.com/rss/news-india-fb.xml\n",
      "2023-01-16 21:46:30.875 | INFO     | __main__:<module>:13 - All items fetched.\n",
      "2023-01-16 21:46:31.017 | INFO     | __main__:<module>:7 - Connected to: https://news.abplive.com/home/feed\n",
      "2023-01-16 21:46:31.027 | INFO     | __main__:<module>:13 - All items fetched.\n",
      "2023-01-16 21:46:31.155 | INFO     | __main__:<module>:7 - Connected to: https://theprint.in/feed/\n",
      "2023-01-16 21:46:31.164 | INFO     | __main__:<module>:13 - All items fetched.\n",
      "2023-01-16 21:46:31.253 | INFO     | __main__:<module>:7 - Connected to: https://www.indiatvnews.com/rssnews/topstory.xml\n",
      "2023-01-16 21:46:31.257 | INFO     | __main__:<module>:13 - All items fetched.\n",
      "2023-01-16 21:46:31.695 | INFO     | __main__:<module>:7 - Connected to: https://www.tribuneindia.com/rss/feed?catId=42\n",
      "2023-01-16 21:46:31.707 | INFO     | __main__:<module>:13 - All items fetched.\n",
      "2023-01-16 21:46:33.194 | INFO     | __main__:<module>:7 - Connected to: https://www.thehindubusinessline.com/?service=rss\n",
      "2023-01-16 21:46:33.213 | INFO     | __main__:<module>:13 - All items fetched.\n",
      "2023-01-16 21:46:34.201 | INFO     | __main__:<module>:7 - Connected to: https://prod-qt-images.s3.amazonaws.com/production/freepressjournal/feed.xml\n",
      "2023-01-16 21:46:34.208 | INFO     | __main__:<module>:13 - All items fetched.\n",
      "2023-01-16 21:46:34.935 | INFO     | __main__:<module>:7 - Connected to: https://www.siasat.com/feed/\n",
      "2023-01-16 21:46:34.960 | INFO     | __main__:<module>:13 - All items fetched.\n",
      "2023-01-16 21:46:36.024 | INFO     | __main__:<module>:7 - Connected to: https://feeds.feedburner.com/ScrollinArticles.rss\n",
      "2023-01-16 21:46:36.064 | INFO     | __main__:<module>:13 - All items fetched.\n",
      "2023-01-16 21:46:36.238 | INFO     | __main__:<module>:7 - Connected to: https://telanganatoday.com/feed\n",
      "2023-01-16 21:46:36.445 | INFO     | __main__:<module>:13 - All items fetched.\n"
     ]
    }
   ],
   "source": [
    "# main.py\n",
    "news_records = {}\n",
    "for idx, url in enumerate(RSS_FEED_URLS):\n",
    "    source_list = []\n",
    "    try:\n",
    "        session = HTMLSession()\n",
    "        response = session.get(url)\n",
    "        logger.info(f\"Connected to: {url}\")\n",
    "    except Exception as e:\n",
    "        logger.error(f\"Unable to connect to: {url}\")\n",
    "    try:\n",
    "        soup = bs(response.content, features='xml')\n",
    "        items = soup.find_all('item')\n",
    "        logger.info(\"All items fetched.\")\n",
    "    except Exception as e:\n",
    "        logger.error(\"Unable to fetch items.\")\n",
    "    \n",
    "    for item in items:\n",
    "        temp = {}\n",
    "        temp['title'] = item.find('title').text\n",
    "        temp['description'] = item.find('description').text\n",
    "        temp['pub_date'] = item.find('pubDate').text\n",
    "        source_list.append(temp)\n",
    "        news_records[str(idx)] = source_list"
   ]
  },
  {
   "cell_type": "code",
   "execution_count": 16,
   "id": "06c66edf",
   "metadata": {},
   "outputs": [],
   "source": [
    "date = datetime.today().strftime(\"%Y%m%d\")\n",
    "\n",
    "filename = f\"{date}_snapshot.json\"\n",
    "folder_name = \"./raw_data\"\n",
    "\n",
    "if not os.path.exists(folder_name):\n",
    "    os.mkdir(folder_name)\n",
    "\n",
    "with open(f\"{folder_name}/{filename}\", 'w+') as f:\n",
    "    json.dump(news_records, f)"
   ]
  },
  {
   "cell_type": "markdown",
   "id": "d50e93c1",
   "metadata": {},
   "source": [
    "## Data Processing"
   ]
  },
  {
   "cell_type": "code",
   "execution_count": 18,
   "id": "5df4acc8",
   "metadata": {},
   "outputs": [],
   "source": [
    "# Data processing (for trial)\n",
    "import numpy as np\n",
    "import pandas as pd\n",
    "pd.set_option('display.max_columns', 25)"
   ]
  },
  {
   "cell_type": "code",
   "execution_count": 20,
   "id": "4232a166",
   "metadata": {},
   "outputs": [
    {
     "name": "stdout",
     "output_type": "stream",
     "text": [
      "(1, 19)\n"
     ]
    },
    {
     "data": {
      "text/html": [
       "<div>\n",
       "<style scoped>\n",
       "    .dataframe tbody tr th:only-of-type {\n",
       "        vertical-align: middle;\n",
       "    }\n",
       "\n",
       "    .dataframe tbody tr th {\n",
       "        vertical-align: top;\n",
       "    }\n",
       "\n",
       "    .dataframe thead th {\n",
       "        text-align: right;\n",
       "    }\n",
       "</style>\n",
       "<table border=\"1\" class=\"dataframe\">\n",
       "  <thead>\n",
       "    <tr style=\"text-align: right;\">\n",
       "      <th></th>\n",
       "      <th>0</th>\n",
       "      <th>1</th>\n",
       "      <th>2</th>\n",
       "      <th>3</th>\n",
       "      <th>4</th>\n",
       "      <th>5</th>\n",
       "      <th>6</th>\n",
       "      <th>7</th>\n",
       "      <th>8</th>\n",
       "      <th>9</th>\n",
       "      <th>10</th>\n",
       "      <th>11</th>\n",
       "      <th>12</th>\n",
       "      <th>13</th>\n",
       "      <th>14</th>\n",
       "      <th>15</th>\n",
       "      <th>17</th>\n",
       "      <th>18</th>\n",
       "      <th>19</th>\n",
       "    </tr>\n",
       "  </thead>\n",
       "  <tbody>\n",
       "    <tr>\n",
       "      <th>0</th>\n",
       "      <td>[{'title': 'Not only Joshimath, these places a...</td>\n",
       "      <td>[{'title': 'On Rahul Gandhi's Bharat Jodo Yatr...</td>\n",
       "      <td>[{'title': 'Don't run Punjab govt from Delhi: ...</td>\n",
       "      <td>[{'title': 'Gujarat CM approves 3 town plannin...</td>\n",
       "      <td>[{'title': '\n",
       "        Parliamentary debate orga...</td>\n",
       "      <td>[{'title': 'Lessor Says Air India to Order Aro...</td>\n",
       "      <td>[{'title': 'Increased provision on CET1 for lo...</td>\n",
       "      <td>[{'title': 'Bundelkhand Expressway to be conne...</td>\n",
       "      <td>[{'title': 'PM Modi holds roadshow as BJP nati...</td>\n",
       "      <td>[{'title': 'Viral Video: Biker’s Wheelie On Em...</td>\n",
       "      <td>[{'title': 'Have to win all 9 state polls: JP ...</td>\n",
       "      <td>[{'title': ''Don't Be A Remote Control In The ...</td>\n",
       "      <td>[{'title': 'Hong Kong judge defends judiciary ...</td>\n",
       "      <td>[{'title': 'BJP national executive: Strategy f...</td>\n",
       "      <td>[{'title': 'In a first, Army clears over 30 wo...</td>\n",
       "      <td>[{'title': '\n",
       "        Has Twitter hastened Musk...</td>\n",
       "      <td>[{'title': 'Abu Dhabi govt raises Golden visa ...</td>\n",
       "      <td>[{'title': 'Frene Ginwala (1932-2023): The Par...</td>\n",
       "      <td>[{'title': 'KTR inaugurates Telangana Pavilion...</td>\n",
       "    </tr>\n",
       "  </tbody>\n",
       "</table>\n",
       "</div>"
      ],
      "text/plain": [
       "                                                  0   \\\n",
       "0  [{'title': 'Not only Joshimath, these places a...   \n",
       "\n",
       "                                                  1   \\\n",
       "0  [{'title': 'On Rahul Gandhi's Bharat Jodo Yatr...   \n",
       "\n",
       "                                                  2   \\\n",
       "0  [{'title': 'Don't run Punjab govt from Delhi: ...   \n",
       "\n",
       "                                                  3   \\\n",
       "0  [{'title': 'Gujarat CM approves 3 town plannin...   \n",
       "\n",
       "                                                  4   \\\n",
       "0  [{'title': '\n",
       "        Parliamentary debate orga...   \n",
       "\n",
       "                                                  5   \\\n",
       "0  [{'title': 'Lessor Says Air India to Order Aro...   \n",
       "\n",
       "                                                  6   \\\n",
       "0  [{'title': 'Increased provision on CET1 for lo...   \n",
       "\n",
       "                                                  7   \\\n",
       "0  [{'title': 'Bundelkhand Expressway to be conne...   \n",
       "\n",
       "                                                  8   \\\n",
       "0  [{'title': 'PM Modi holds roadshow as BJP nati...   \n",
       "\n",
       "                                                  9   \\\n",
       "0  [{'title': 'Viral Video: Biker’s Wheelie On Em...   \n",
       "\n",
       "                                                  10  \\\n",
       "0  [{'title': 'Have to win all 9 state polls: JP ...   \n",
       "\n",
       "                                                  11  \\\n",
       "0  [{'title': ''Don't Be A Remote Control In The ...   \n",
       "\n",
       "                                                  12  \\\n",
       "0  [{'title': 'Hong Kong judge defends judiciary ...   \n",
       "\n",
       "                                                  13  \\\n",
       "0  [{'title': 'BJP national executive: Strategy f...   \n",
       "\n",
       "                                                  14  \\\n",
       "0  [{'title': 'In a first, Army clears over 30 wo...   \n",
       "\n",
       "                                                  15  \\\n",
       "0  [{'title': '\n",
       "        Has Twitter hastened Musk...   \n",
       "\n",
       "                                                  17  \\\n",
       "0  [{'title': 'Abu Dhabi govt raises Golden visa ...   \n",
       "\n",
       "                                                  18  \\\n",
       "0  [{'title': 'Frene Ginwala (1932-2023): The Par...   \n",
       "\n",
       "                                                  19  \n",
       "0  [{'title': 'KTR inaugurates Telangana Pavilion...  "
      ]
     },
     "execution_count": 20,
     "metadata": {},
     "output_type": "execute_result"
    }
   ],
   "source": [
    "data = pd.read_json(f\"{folder_name}/{filename}\", lines=True)\n",
    "print(data.shape)\n",
    "data.head(3)"
   ]
  },
  {
   "cell_type": "code",
   "execution_count": 24,
   "id": "05ccf598",
   "metadata": {},
   "outputs": [
    {
     "data": {
      "text/html": [
       "<div>\n",
       "<style scoped>\n",
       "    .dataframe tbody tr th:only-of-type {\n",
       "        vertical-align: middle;\n",
       "    }\n",
       "\n",
       "    .dataframe tbody tr th {\n",
       "        vertical-align: top;\n",
       "    }\n",
       "\n",
       "    .dataframe thead th {\n",
       "        text-align: right;\n",
       "    }\n",
       "</style>\n",
       "<table border=\"1\" class=\"dataframe\">\n",
       "  <thead>\n",
       "    <tr style=\"text-align: right;\">\n",
       "      <th></th>\n",
       "      <th>0</th>\n",
       "    </tr>\n",
       "  </thead>\n",
       "  <tbody>\n",
       "    <tr>\n",
       "      <th>0</th>\n",
       "      <td>[{'title': 'Not only Joshimath, these places a...</td>\n",
       "    </tr>\n",
       "    <tr>\n",
       "      <th>1</th>\n",
       "      <td>[{'title': 'On Rahul Gandhi's Bharat Jodo Yatr...</td>\n",
       "    </tr>\n",
       "    <tr>\n",
       "      <th>2</th>\n",
       "      <td>[{'title': 'Don't run Punjab govt from Delhi: ...</td>\n",
       "    </tr>\n",
       "    <tr>\n",
       "      <th>3</th>\n",
       "      <td>[{'title': 'Gujarat CM approves 3 town plannin...</td>\n",
       "    </tr>\n",
       "    <tr>\n",
       "      <th>4</th>\n",
       "      <td>[{'title': '\n",
       "        Parliamentary debate orga...</td>\n",
       "    </tr>\n",
       "    <tr>\n",
       "      <th>5</th>\n",
       "      <td>[{'title': 'Lessor Says Air India to Order Aro...</td>\n",
       "    </tr>\n",
       "    <tr>\n",
       "      <th>6</th>\n",
       "      <td>[{'title': 'Increased provision on CET1 for lo...</td>\n",
       "    </tr>\n",
       "    <tr>\n",
       "      <th>7</th>\n",
       "      <td>[{'title': 'Bundelkhand Expressway to be conne...</td>\n",
       "    </tr>\n",
       "    <tr>\n",
       "      <th>8</th>\n",
       "      <td>[{'title': 'PM Modi holds roadshow as BJP nati...</td>\n",
       "    </tr>\n",
       "    <tr>\n",
       "      <th>9</th>\n",
       "      <td>[{'title': 'Viral Video: Biker’s Wheelie On Em...</td>\n",
       "    </tr>\n",
       "    <tr>\n",
       "      <th>10</th>\n",
       "      <td>[{'title': 'Have to win all 9 state polls: JP ...</td>\n",
       "    </tr>\n",
       "    <tr>\n",
       "      <th>11</th>\n",
       "      <td>[{'title': ''Don't Be A Remote Control In The ...</td>\n",
       "    </tr>\n",
       "    <tr>\n",
       "      <th>12</th>\n",
       "      <td>[{'title': 'Hong Kong judge defends judiciary ...</td>\n",
       "    </tr>\n",
       "    <tr>\n",
       "      <th>13</th>\n",
       "      <td>[{'title': 'BJP national executive: Strategy f...</td>\n",
       "    </tr>\n",
       "    <tr>\n",
       "      <th>14</th>\n",
       "      <td>[{'title': 'In a first, Army clears over 30 wo...</td>\n",
       "    </tr>\n",
       "    <tr>\n",
       "      <th>15</th>\n",
       "      <td>[{'title': '\n",
       "        Has Twitter hastened Musk...</td>\n",
       "    </tr>\n",
       "    <tr>\n",
       "      <th>17</th>\n",
       "      <td>[{'title': 'Abu Dhabi govt raises Golden visa ...</td>\n",
       "    </tr>\n",
       "    <tr>\n",
       "      <th>18</th>\n",
       "      <td>[{'title': 'Frene Ginwala (1932-2023): The Par...</td>\n",
       "    </tr>\n",
       "    <tr>\n",
       "      <th>19</th>\n",
       "      <td>[{'title': 'KTR inaugurates Telangana Pavilion...</td>\n",
       "    </tr>\n",
       "  </tbody>\n",
       "</table>\n",
       "</div>"
      ],
      "text/plain": [
       "                                                    0\n",
       "0   [{'title': 'Not only Joshimath, these places a...\n",
       "1   [{'title': 'On Rahul Gandhi's Bharat Jodo Yatr...\n",
       "2   [{'title': 'Don't run Punjab govt from Delhi: ...\n",
       "3   [{'title': 'Gujarat CM approves 3 town plannin...\n",
       "4   [{'title': '\n",
       "        Parliamentary debate orga...\n",
       "5   [{'title': 'Lessor Says Air India to Order Aro...\n",
       "6   [{'title': 'Increased provision on CET1 for lo...\n",
       "7   [{'title': 'Bundelkhand Expressway to be conne...\n",
       "8   [{'title': 'PM Modi holds roadshow as BJP nati...\n",
       "9   [{'title': 'Viral Video: Biker’s Wheelie On Em...\n",
       "10  [{'title': 'Have to win all 9 state polls: JP ...\n",
       "11  [{'title': ''Don't Be A Remote Control In The ...\n",
       "12  [{'title': 'Hong Kong judge defends judiciary ...\n",
       "13  [{'title': 'BJP national executive: Strategy f...\n",
       "14  [{'title': 'In a first, Army clears over 30 wo...\n",
       "15  [{'title': '\n",
       "        Has Twitter hastened Musk...\n",
       "17  [{'title': 'Abu Dhabi govt raises Golden visa ...\n",
       "18  [{'title': 'Frene Ginwala (1932-2023): The Par...\n",
       "19  [{'title': 'KTR inaugurates Telangana Pavilion..."
      ]
     },
     "execution_count": 24,
     "metadata": {},
     "output_type": "execute_result"
    }
   ],
   "source": [
    "data = data.T\n",
    "data"
   ]
  },
  {
   "cell_type": "code",
   "execution_count": null,
   "id": "900cc310",
   "metadata": {},
   "outputs": [],
   "source": []
  },
  {
   "cell_type": "code",
   "execution_count": null,
   "id": "61333c7f",
   "metadata": {},
   "outputs": [],
   "source": []
  },
  {
   "cell_type": "code",
   "execution_count": null,
   "id": "3c7054a2",
   "metadata": {},
   "outputs": [],
   "source": []
  },
  {
   "cell_type": "code",
   "execution_count": null,
   "id": "4ba9b784",
   "metadata": {},
   "outputs": [],
   "source": []
  }
 ],
 "metadata": {
  "kernelspec": {
   "display_name": "Python 3 (ipykernel)",
   "language": "python",
   "name": "python3"
  },
  "language_info": {
   "codemirror_mode": {
    "name": "ipython",
    "version": 3
   },
   "file_extension": ".py",
   "mimetype": "text/x-python",
   "name": "python",
   "nbconvert_exporter": "python",
   "pygments_lexer": "ipython3",
   "version": "3.9.15"
  },
  "toc": {
   "base_numbering": 1,
   "nav_menu": {},
   "number_sections": true,
   "sideBar": true,
   "skip_h1_title": false,
   "title_cell": "Table of Contents",
   "title_sidebar": "Table of Contents",
   "toc_cell": true,
   "toc_position": {},
   "toc_section_display": true,
   "toc_window_display": false
  }
 },
 "nbformat": 4,
 "nbformat_minor": 5
}
