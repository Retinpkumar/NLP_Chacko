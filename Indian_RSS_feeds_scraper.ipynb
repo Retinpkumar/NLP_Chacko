{
 "cells": [
  {
   "cell_type": "markdown",
   "id": "c5ccb176",
   "metadata": {
    "toc": true
   },
   "source": [
    "<h1>Table of Contents<span class=\"tocSkip\"></span></h1>\n",
    "<div class=\"toc\"><ul class=\"toc-item\"><li><span><a href=\"#Data-Processing\" data-toc-modified-id=\"Data-Processing-1\"><span class=\"toc-item-num\">1&nbsp;&nbsp;</span>Data Processing</a></span></li></ul></div>"
   ]
  },
  {
   "cell_type": "code",
   "execution_count": 1,
   "id": "ce9ff471",
   "metadata": {},
   "outputs": [],
   "source": [
    "from requests_html import HTMLSession\n",
    "from bs4 import BeautifulSoup as bs\n",
    "import json, re, os\n",
    "from tqdm import tqdm\n",
    "from loguru import logger\n",
    "from datetime import datetime\n",
    "import pandas as pd"
   ]
  },
  {
   "cell_type": "code",
   "execution_count": 2,
   "id": "e9e19d01",
   "metadata": {},
   "outputs": [],
   "source": [
    "# feed_config.py and import\n",
    "RSS_FEED_URLS = [\n",
    "    'https://timesofindia.indiatimes.com/rssfeedstopstories.cms?x=1',\n",
    "    'https://feeds.feedburner.com/NDTV-LatestNews',\n",
    "    'https://www.indiatoday.in/rss/1206578',\n",
    "    'https://indianexpress.com/feed/',\n",
    "    'https://www.thehindu.com/news/national/?service=rss',\n",
    "    'https://www.news18.com/rss/india.xml',\n",
    "    'https://www.business-standard.com/rss/latest.rss',\n",
    "    'https://www.dnaindia.com/feeds/india.xml',\n",
    "    'https://www.deccanchronicle.com/rss_feed/',\n",
    "    'https://www.india.com/feed/',\n",
    "    'https://www.oneindia.com/rss/news-india-fb.xml',\n",
    "    'https://news.abplive.com/home/feed',\n",
    "    'https://theprint.in/feed/',\n",
    "    'https://www.indiatvnews.com/rssnews/topstory.xml',\n",
    "    'https://www.tribuneindia.com/rss/feed?catId=42',\n",
    "    'https://www.thehindubusinessline.com/?service=rss',\n",
    "#     'https://prod-qt-images.s3.amazonaws.com/production/freepressjournal/feed.xml', # no results\n",
    "    'https://www.siasat.com/feed/',\n",
    "    'https://feeds.feedburner.com/ScrollinArticles.rss',\n",
    "    'https://telanganatoday.com/feed'\n",
    "]"
   ]
  },
  {
   "cell_type": "code",
   "execution_count": 3,
   "id": "a2d198cd",
   "metadata": {},
   "outputs": [
    {
     "data": {
      "text/plain": [
       "19"
      ]
     },
     "execution_count": 3,
     "metadata": {},
     "output_type": "execute_result"
    }
   ],
   "source": [
    "len(RSS_FEED_URLS)"
   ]
  },
  {
   "cell_type": "code",
   "execution_count": 4,
   "id": "57cf1672",
   "metadata": {},
   "outputs": [
    {
     "data": {
      "text/plain": [
       "200"
      ]
     },
     "execution_count": 4,
     "metadata": {},
     "output_type": "execute_result"
    }
   ],
   "source": [
    "session = HTMLSession()\n",
    "response = session.get(RSS_FEED_URLS[0])\n",
    "response.status_code"
   ]
  },
  {
   "cell_type": "code",
   "execution_count": 5,
   "id": "240ce62b",
   "metadata": {},
   "outputs": [],
   "source": [
    "soup = bs(response.content, features='xml')"
   ]
  },
  {
   "cell_type": "code",
   "execution_count": 6,
   "id": "f41d82e4",
   "metadata": {},
   "outputs": [],
   "source": [
    "items  = soup.find_all('item')"
   ]
  },
  {
   "cell_type": "code",
   "execution_count": 7,
   "id": "76f4efcc",
   "metadata": {},
   "outputs": [
    {
     "data": {
      "text/plain": [
       "33"
      ]
     },
     "execution_count": 7,
     "metadata": {},
     "output_type": "execute_result"
    }
   ],
   "source": [
    "len(items)"
   ]
  },
  {
   "cell_type": "code",
   "execution_count": 8,
   "id": "8e2ce4db",
   "metadata": {},
   "outputs": [
    {
     "data": {
      "text/plain": [
       "<item><title>'Tip of the iceberg': 9,00,000 may have died due to Covid in 5 weeks in China</title><description>Using a report from the National School of Development at Peking University that found 64% of the population was infected by mid-January, a report estimated 900,000 people would have died in the previous five weeks based on a conservative 0.1% case fatality rate. That means the official hospital death count is less than 7% of the total mortality seen during the outbreak. </description><link>https://timesofindia.indiatimes.com/world/china/coronavirus-china-covid-death-zero-covid/articleshow/97023577.cms</link><guid>https://timesofindia.indiatimes.com/world/china/coronavirus-china-covid-death-zero-covid/articleshow/97023577.cms</guid><pubDate>Mon, 16 Jan 2023 13:06:49 +0530</pubDate><dc:creator>Bloomberg</dc:creator><enclosure length=\"2221629\" type=\"image/jpeg\" url=\"https://static.toiimg.com/photo/msid-97023635,imgsize-2221629.cms\"/></item>"
      ]
     },
     "execution_count": 8,
     "metadata": {},
     "output_type": "execute_result"
    }
   ],
   "source": [
    "items[0]"
   ]
  },
  {
   "cell_type": "code",
   "execution_count": 9,
   "id": "aa81d8b3",
   "metadata": {},
   "outputs": [
    {
     "data": {
      "text/plain": [
       "\"'Tip of the iceberg': 9,00,000 may have died due to Covid in 5 weeks in China\""
      ]
     },
     "execution_count": 9,
     "metadata": {},
     "output_type": "execute_result"
    }
   ],
   "source": [
    "title = items[0].find('title').text\n",
    "title"
   ]
  },
  {
   "cell_type": "code",
   "execution_count": 10,
   "id": "3a39ae22",
   "metadata": {},
   "outputs": [
    {
     "data": {
      "text/plain": [
       "'Using a report from the National School of Development at Peking University that found 64% of the population was infected by mid-January, a report estimated 900,000 people would have died in the previous five weeks based on a conservative 0.1% case fatality rate. That means the official hospital death count is less than 7% of the total mortality seen during the outbreak. '"
      ]
     },
     "execution_count": 10,
     "metadata": {},
     "output_type": "execute_result"
    }
   ],
   "source": [
    "description = items[0].find('description').text\n",
    "description"
   ]
  },
  {
   "cell_type": "code",
   "execution_count": 11,
   "id": "85c23a5b",
   "metadata": {},
   "outputs": [
    {
     "data": {
      "text/plain": [
       "'Mon, 16 Jan 2023 13:06:49 +0530'"
      ]
     },
     "execution_count": 11,
     "metadata": {},
     "output_type": "execute_result"
    }
   ],
   "source": [
    "pub_date = items[0].find('pubDate').text\n",
    "pub_date"
   ]
  },
  {
   "cell_type": "code",
   "execution_count": 12,
   "id": "7c291124",
   "metadata": {},
   "outputs": [],
   "source": [
    "all_records = []\n",
    "\n",
    "articles = []"
   ]
  },
  {
   "cell_type": "code",
   "execution_count": 13,
   "id": "c7e7fa08",
   "metadata": {},
   "outputs": [],
   "source": [
    "# main.py\n",
    "def fetch_data(url):\n",
    "    rss_feed_data = dict()\n",
    "    try:\n",
    "        session = HTMLSession()\n",
    "        response = session.get(url)\n",
    "        logger.info(f\"Connected to: {url}\")\n",
    "    except Exception as e:\n",
    "        logger.error(f\"Unable to connect to: {url}\")\n",
    "    try:\n",
    "        soup = bs(response.content, features='xml')\n",
    "        items = soup.find_all('item')\n",
    "        logger.info(\"All items fetched.\")\n",
    "    except Exception as e:\n",
    "        logger.error(\"Unable to fetch items.\")\n",
    "    \n",
    "    titles = [item.find('title').text for item in items]\n",
    "    descriptions = [item.find('description').text for item in items]\n",
    "    pub_dates = [item.find('pubDate').text for item in items]\n",
    "    \n",
    "    rss_feed_data['titles'] = titles\n",
    "    rss_feed_data['descriptions'] = descriptions\n",
    "    rss_feed_data['pub_dates'] = pub_dates\n",
    "    \n",
    "    return rss_feed_data"
   ]
  },
  {
   "cell_type": "code",
   "execution_count": 14,
   "id": "6e9bc004",
   "metadata": {
    "scrolled": false
   },
   "outputs": [
    {
     "name": "stderr",
     "output_type": "stream",
     "text": [
      "2023-01-16 23:07:17.782 | INFO     | __main__:fetch_data:7 - Connected to: https://timesofindia.indiatimes.com/rssfeedstopstories.cms?x=1\n",
      "2023-01-16 23:07:17.790 | INFO     | __main__:fetch_data:13 - All items fetched.\n",
      "2023-01-16 23:07:19.013 | INFO     | __main__:fetch_data:7 - Connected to: https://feeds.feedburner.com/NDTV-LatestNews\n",
      "2023-01-16 23:07:19.019 | INFO     | __main__:fetch_data:13 - All items fetched.\n",
      "2023-01-16 23:07:19.291 | INFO     | __main__:fetch_data:7 - Connected to: https://www.indiatoday.in/rss/1206578\n",
      "2023-01-16 23:07:19.309 | INFO     | __main__:fetch_data:13 - All items fetched.\n",
      "2023-01-16 23:07:19.477 | INFO     | __main__:fetch_data:7 - Connected to: https://indianexpress.com/feed/\n",
      "2023-01-16 23:07:19.578 | INFO     | __main__:fetch_data:13 - All items fetched.\n",
      "2023-01-16 23:07:19.877 | INFO     | __main__:fetch_data:7 - Connected to: https://www.thehindu.com/news/national/?service=rss\n",
      "2023-01-16 23:07:19.909 | INFO     | __main__:fetch_data:13 - All items fetched.\n",
      "2023-01-16 23:07:20.413 | INFO     | __main__:fetch_data:7 - Connected to: https://www.news18.com/rss/india.xml\n",
      "2023-01-16 23:07:20.473 | INFO     | __main__:fetch_data:13 - All items fetched.\n",
      "2023-01-16 23:07:20.633 | INFO     | __main__:fetch_data:7 - Connected to: https://www.business-standard.com/rss/latest.rss\n",
      "2023-01-16 23:07:20.682 | INFO     | __main__:fetch_data:13 - All items fetched.\n",
      "2023-01-16 23:07:21.359 | INFO     | __main__:fetch_data:7 - Connected to: https://www.dnaindia.com/feeds/india.xml\n",
      "2023-01-16 23:07:21.372 | INFO     | __main__:fetch_data:13 - All items fetched.\n",
      "2023-01-16 23:07:21.676 | INFO     | __main__:fetch_data:7 - Connected to: https://www.deccanchronicle.com/rss_feed/\n",
      "2023-01-16 23:07:21.697 | INFO     | __main__:fetch_data:13 - All items fetched.\n",
      "2023-01-16 23:07:21.846 | INFO     | __main__:fetch_data:7 - Connected to: https://www.india.com/feed/\n",
      "2023-01-16 23:07:21.865 | INFO     | __main__:fetch_data:13 - All items fetched.\n",
      "2023-01-16 23:07:22.054 | INFO     | __main__:fetch_data:7 - Connected to: https://www.oneindia.com/rss/news-india-fb.xml\n",
      "2023-01-16 23:07:22.072 | INFO     | __main__:fetch_data:13 - All items fetched.\n",
      "2023-01-16 23:07:22.239 | INFO     | __main__:fetch_data:7 - Connected to: https://news.abplive.com/home/feed\n",
      "2023-01-16 23:07:22.251 | INFO     | __main__:fetch_data:13 - All items fetched.\n",
      "2023-01-16 23:07:22.433 | INFO     | __main__:fetch_data:7 - Connected to: https://theprint.in/feed/\n",
      "2023-01-16 23:07:22.440 | INFO     | __main__:fetch_data:13 - All items fetched.\n",
      "2023-01-16 23:07:22.644 | INFO     | __main__:fetch_data:7 - Connected to: https://www.indiatvnews.com/rssnews/topstory.xml\n",
      "2023-01-16 23:07:22.661 | INFO     | __main__:fetch_data:13 - All items fetched.\n",
      "2023-01-16 23:07:23.765 | INFO     | __main__:fetch_data:7 - Connected to: https://www.tribuneindia.com/rss/feed?catId=42\n",
      "2023-01-16 23:07:23.785 | INFO     | __main__:fetch_data:13 - All items fetched.\n",
      "2023-01-16 23:07:24.141 | INFO     | __main__:fetch_data:7 - Connected to: https://www.thehindubusinessline.com/?service=rss\n",
      "2023-01-16 23:07:24.158 | INFO     | __main__:fetch_data:13 - All items fetched.\n",
      "2023-01-16 23:07:24.550 | INFO     | __main__:fetch_data:7 - Connected to: https://www.siasat.com/feed/\n",
      "2023-01-16 23:07:24.574 | INFO     | __main__:fetch_data:13 - All items fetched.\n",
      "2023-01-16 23:07:26.016 | INFO     | __main__:fetch_data:7 - Connected to: https://feeds.feedburner.com/ScrollinArticles.rss\n",
      "2023-01-16 23:07:26.050 | INFO     | __main__:fetch_data:13 - All items fetched.\n",
      "2023-01-16 23:07:29.565 | INFO     | __main__:fetch_data:7 - Connected to: https://telanganatoday.com/feed\n",
      "2023-01-16 23:07:29.788 | INFO     | __main__:fetch_data:13 - All items fetched.\n"
     ]
    },
    {
     "name": "stdout",
     "output_type": "stream",
     "text": [
      "\n",
      " (1700, 3)\n"
     ]
    },
    {
     "data": {
      "text/html": [
       "<div>\n",
       "<style scoped>\n",
       "    .dataframe tbody tr th:only-of-type {\n",
       "        vertical-align: middle;\n",
       "    }\n",
       "\n",
       "    .dataframe tbody tr th {\n",
       "        vertical-align: top;\n",
       "    }\n",
       "\n",
       "    .dataframe thead th {\n",
       "        text-align: right;\n",
       "    }\n",
       "</style>\n",
       "<table border=\"1\" class=\"dataframe\">\n",
       "  <thead>\n",
       "    <tr style=\"text-align: right;\">\n",
       "      <th></th>\n",
       "      <th>titles</th>\n",
       "      <th>descriptions</th>\n",
       "      <th>pub_dates</th>\n",
       "    </tr>\n",
       "  </thead>\n",
       "  <tbody>\n",
       "    <tr>\n",
       "      <th>0</th>\n",
       "      <td>'Tip of the iceberg': 9,00,000 may have died d...</td>\n",
       "      <td>Using a report from the National School of Dev...</td>\n",
       "      <td>Mon, 16 Jan 2023 13:06:49 +0530</td>\n",
       "    </tr>\n",
       "    <tr>\n",
       "      <th>1</th>\n",
       "      <td>Not only Joshimath, these places are also at r...</td>\n",
       "      <td></td>\n",
       "      <td>Mon, 16 Jan 2023 09:33:46 +0530</td>\n",
       "    </tr>\n",
       "    <tr>\n",
       "      <th>2</th>\n",
       "      <td>Kerala makes masks mandatory in public places</td>\n",
       "      <td>The Kerala government has made wearing masks c...</td>\n",
       "      <td>Mon, 16 Jan 2023 21:11:40 +0530</td>\n",
       "    </tr>\n",
       "    <tr>\n",
       "      <th>3</th>\n",
       "      <td>'2023 very important': BJP holds key meet afte...</td>\n",
       "      <td>Prime Minister Narendra Modi held a mega roads...</td>\n",
       "      <td>Mon, 16 Jan 2023 16:56:17 +0530</td>\n",
       "    </tr>\n",
       "    <tr>\n",
       "      <th>4</th>\n",
       "      <td>My surgery was a success, ready for the challe...</td>\n",
       "      <td>India wicketkeeper-batter Rishabh Pant, who su...</td>\n",
       "      <td>Mon, 16 Jan 2023 19:27:05 +0530</td>\n",
       "    </tr>\n",
       "  </tbody>\n",
       "</table>\n",
       "</div>"
      ],
      "text/plain": [
       "                                              titles  \\\n",
       "0  'Tip of the iceberg': 9,00,000 may have died d...   \n",
       "1  Not only Joshimath, these places are also at r...   \n",
       "2      Kerala makes masks mandatory in public places   \n",
       "3  '2023 very important': BJP holds key meet afte...   \n",
       "4  My surgery was a success, ready for the challe...   \n",
       "\n",
       "                                        descriptions  \\\n",
       "0  Using a report from the National School of Dev...   \n",
       "1                                                      \n",
       "2  The Kerala government has made wearing masks c...   \n",
       "3  Prime Minister Narendra Modi held a mega roads...   \n",
       "4  India wicketkeeper-batter Rishabh Pant, who su...   \n",
       "\n",
       "                         pub_dates  \n",
       "0  Mon, 16 Jan 2023 13:06:49 +0530  \n",
       "1  Mon, 16 Jan 2023 09:33:46 +0530  \n",
       "2  Mon, 16 Jan 2023 21:11:40 +0530  \n",
       "3  Mon, 16 Jan 2023 16:56:17 +0530  \n",
       "4  Mon, 16 Jan 2023 19:27:05 +0530  "
      ]
     },
     "execution_count": 14,
     "metadata": {},
     "output_type": "execute_result"
    }
   ],
   "source": [
    "todays_feed = pd.concat([pd.DataFrame.from_dict(fetch_data(url)) for url in RSS_FEED_URLS], ignore_index=True)\n",
    "print(\"\\n\", todays_feed.shape)\n",
    "todays_feed.head()"
   ]
  },
  {
   "cell_type": "code",
   "execution_count": 15,
   "id": "7331aa07",
   "metadata": {},
   "outputs": [],
   "source": [
    "date = datetime.today().strftime(\"%Y%m%d\")\n",
    "\n",
    "folder_name = \"./raw_data/\"\n",
    "filename = f\"{date}_snapshot.json\"\n",
    "\n",
    "if not os.path.exists(folder_name):\n",
    "    os.mkdir(folder_name)\n",
    "\n",
    "with open(f\"{folder_name}{filename}\", 'w', encoding='utf-8') as file:\n",
    "    todays_feed.to_json(file, orient='records', lines=True)"
   ]
  },
  {
   "cell_type": "code",
   "execution_count": 16,
   "id": "1e13ea6d",
   "metadata": {},
   "outputs": [
    {
     "data": {
      "text/html": [
       "<div>\n",
       "<style scoped>\n",
       "    .dataframe tbody tr th:only-of-type {\n",
       "        vertical-align: middle;\n",
       "    }\n",
       "\n",
       "    .dataframe tbody tr th {\n",
       "        vertical-align: top;\n",
       "    }\n",
       "\n",
       "    .dataframe thead th {\n",
       "        text-align: right;\n",
       "    }\n",
       "</style>\n",
       "<table border=\"1\" class=\"dataframe\">\n",
       "  <thead>\n",
       "    <tr style=\"text-align: right;\">\n",
       "      <th></th>\n",
       "      <th>titles</th>\n",
       "      <th>descriptions</th>\n",
       "      <th>pub_dates</th>\n",
       "    </tr>\n",
       "  </thead>\n",
       "  <tbody>\n",
       "    <tr>\n",
       "      <th>0</th>\n",
       "      <td>'Tip of the iceberg': 9,00,000 may have died d...</td>\n",
       "      <td>Using a report from the National School of Dev...</td>\n",
       "      <td>Mon, 16 Jan 2023 13:06:49 +0530</td>\n",
       "    </tr>\n",
       "    <tr>\n",
       "      <th>1</th>\n",
       "      <td>Not only Joshimath, these places are also at r...</td>\n",
       "      <td></td>\n",
       "      <td>Mon, 16 Jan 2023 09:33:46 +0530</td>\n",
       "    </tr>\n",
       "    <tr>\n",
       "      <th>2</th>\n",
       "      <td>Kerala makes masks mandatory in public places</td>\n",
       "      <td>The Kerala government has made wearing masks c...</td>\n",
       "      <td>Mon, 16 Jan 2023 21:11:40 +0530</td>\n",
       "    </tr>\n",
       "    <tr>\n",
       "      <th>3</th>\n",
       "      <td>'2023 very important': BJP holds key meet afte...</td>\n",
       "      <td>Prime Minister Narendra Modi held a mega roads...</td>\n",
       "      <td>Mon, 16 Jan 2023 16:56:17 +0530</td>\n",
       "    </tr>\n",
       "    <tr>\n",
       "      <th>4</th>\n",
       "      <td>My surgery was a success, ready for the challe...</td>\n",
       "      <td>India wicketkeeper-batter Rishabh Pant, who su...</td>\n",
       "      <td>Mon, 16 Jan 2023 19:27:05 +0530</td>\n",
       "    </tr>\n",
       "    <tr>\n",
       "      <th>...</th>\n",
       "      <td>...</td>\n",
       "      <td>...</td>\n",
       "      <td>...</td>\n",
       "    </tr>\n",
       "    <tr>\n",
       "      <th>1695</th>\n",
       "      <td>Golden Globes 2023: ‘The Fabelmans’ bags Best ...</td>\n",
       "      <td>&lt;figure&gt;&lt;img width=\"768\" height=\"450\" src=\"htt...</td>\n",
       "      <td>Wed, 11 Jan 2023 12:15:08 +0530</td>\n",
       "    </tr>\n",
       "    <tr>\n",
       "      <th>1696</th>\n",
       "      <td>Sensex declines 309.7 points to 59,805.78 in e...</td>\n",
       "      <td>&lt;figure&gt;&lt;img width=\"768\" height=\"450\" src=\"htt...</td>\n",
       "      <td>Wed, 11 Jan 2023 12:00:29 +0530</td>\n",
       "    </tr>\n",
       "    <tr>\n",
       "      <th>1697</th>\n",
       "      <td>‘It was a beautiful torture’: Ram Charan looks...</td>\n",
       "      <td>&lt;figure&gt;&lt;img width=\"768\" height=\"450\" src=\"htt...</td>\n",
       "      <td>Wed, 11 Jan 2023 11:45:08 +0530</td>\n",
       "    </tr>\n",
       "    <tr>\n",
       "      <th>1698</th>\n",
       "      <td>“There will be no third World War, it is not a...</td>\n",
       "      <td>&lt;figure&gt;&lt;img width=\"768\" height=\"450\" src=\"htt...</td>\n",
       "      <td>Wed, 11 Jan 2023 11:30:17 +0530</td>\n",
       "    </tr>\n",
       "    <tr>\n",
       "      <th>1699</th>\n",
       "      <td>27 year old man dies in train accident in Hyde...</td>\n",
       "      <td>&lt;figure&gt;&lt;img width=\"768\" height=\"450\" src=\"htt...</td>\n",
       "      <td>Wed, 11 Jan 2023 11:30:12 +0530</td>\n",
       "    </tr>\n",
       "  </tbody>\n",
       "</table>\n",
       "<p>1700 rows × 3 columns</p>\n",
       "</div>"
      ],
      "text/plain": [
       "                                                 titles  \\\n",
       "0     'Tip of the iceberg': 9,00,000 may have died d...   \n",
       "1     Not only Joshimath, these places are also at r...   \n",
       "2         Kerala makes masks mandatory in public places   \n",
       "3     '2023 very important': BJP holds key meet afte...   \n",
       "4     My surgery was a success, ready for the challe...   \n",
       "...                                                 ...   \n",
       "1695  Golden Globes 2023: ‘The Fabelmans’ bags Best ...   \n",
       "1696  Sensex declines 309.7 points to 59,805.78 in e...   \n",
       "1697  ‘It was a beautiful torture’: Ram Charan looks...   \n",
       "1698  “There will be no third World War, it is not a...   \n",
       "1699  27 year old man dies in train accident in Hyde...   \n",
       "\n",
       "                                           descriptions  \\\n",
       "0     Using a report from the National School of Dev...   \n",
       "1                                                         \n",
       "2     The Kerala government has made wearing masks c...   \n",
       "3     Prime Minister Narendra Modi held a mega roads...   \n",
       "4     India wicketkeeper-batter Rishabh Pant, who su...   \n",
       "...                                                 ...   \n",
       "1695  <figure><img width=\"768\" height=\"450\" src=\"htt...   \n",
       "1696  <figure><img width=\"768\" height=\"450\" src=\"htt...   \n",
       "1697  <figure><img width=\"768\" height=\"450\" src=\"htt...   \n",
       "1698  <figure><img width=\"768\" height=\"450\" src=\"htt...   \n",
       "1699  <figure><img width=\"768\" height=\"450\" src=\"htt...   \n",
       "\n",
       "                            pub_dates  \n",
       "0     Mon, 16 Jan 2023 13:06:49 +0530  \n",
       "1     Mon, 16 Jan 2023 09:33:46 +0530  \n",
       "2     Mon, 16 Jan 2023 21:11:40 +0530  \n",
       "3     Mon, 16 Jan 2023 16:56:17 +0530  \n",
       "4     Mon, 16 Jan 2023 19:27:05 +0530  \n",
       "...                               ...  \n",
       "1695  Wed, 11 Jan 2023 12:15:08 +0530  \n",
       "1696  Wed, 11 Jan 2023 12:00:29 +0530  \n",
       "1697  Wed, 11 Jan 2023 11:45:08 +0530  \n",
       "1698  Wed, 11 Jan 2023 11:30:17 +0530  \n",
       "1699  Wed, 11 Jan 2023 11:30:12 +0530  \n",
       "\n",
       "[1700 rows x 3 columns]"
      ]
     },
     "execution_count": 16,
     "metadata": {},
     "output_type": "execute_result"
    }
   ],
   "source": [
    "pd.read_json('./raw_data/20230116_snapshot.json', lines=True)"
   ]
  },
  {
   "cell_type": "code",
   "execution_count": null,
   "id": "b46b9af9",
   "metadata": {},
   "outputs": [],
   "source": []
  }
 ],
 "metadata": {
  "kernelspec": {
   "display_name": "Python 3 (ipykernel)",
   "language": "python",
   "name": "python3"
  },
  "language_info": {
   "codemirror_mode": {
    "name": "ipython",
    "version": 3
   },
   "file_extension": ".py",
   "mimetype": "text/x-python",
   "name": "python",
   "nbconvert_exporter": "python",
   "pygments_lexer": "ipython3",
   "version": "3.9.15"
  },
  "toc": {
   "base_numbering": 1,
   "nav_menu": {},
   "number_sections": true,
   "sideBar": true,
   "skip_h1_title": false,
   "title_cell": "Table of Contents",
   "title_sidebar": "Table of Contents",
   "toc_cell": true,
   "toc_position": {},
   "toc_section_display": true,
   "toc_window_display": false
  }
 },
 "nbformat": 4,
 "nbformat_minor": 5
}
